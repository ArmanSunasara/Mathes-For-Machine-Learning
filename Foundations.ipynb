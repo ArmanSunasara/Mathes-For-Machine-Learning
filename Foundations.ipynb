{
 "cells": [
  {
   "cell_type": "markdown",
   "id": "4bc25f89",
   "metadata": {},
   "source": [
    "'''  \n",
    "### Topics:\n",
    "\n",
    "- Scalars, vectors, matrices, tensors\n",
    "- Types of matrices (identity, diagonal, symmetric, orthogonal)\n",
    "- Basic matrix notation\n",
    "\n",
    "### Python Implementation:\n",
    "\n",
    "- Represent scalars, vectors, matrices with NumPy\n",
    "- Create identity, diagonal, random, and symmetric matrices\n",
    "- Shape, size, transpose\n",
    "\n",
    "'''"
   ]
  },
  {
   "cell_type": "code",
   "execution_count": null,
   "id": "6b90056c",
   "metadata": {},
   "outputs": [],
   "source": [
    "import numpy as np"
   ]
  },
  {
   "cell_type": "markdown",
   "id": "7cbc5447",
   "metadata": {},
   "source": [
    "Scalars"
   ]
  },
  {
   "cell_type": "code",
   "execution_count": null,
   "id": "466ad4ea",
   "metadata": {},
   "outputs": [],
   "source": [
    "# Scalar representation\n",
    "scalar = 7\n",
    "print(\"Scalar:\", scalar)\n",
    "\n",
    "# Scalar arithmetic\n",
    "a = 5\n",
    "b = 3\n",
    "print(\"Addition:\", a + b)\n",
    "print(\"Multiplication:\", a * b)\n",
    "print(\"Division:\", a / b)\n",
    "\n",
    "# Scalar with vector (scaling)\n",
    "\n",
    "v = np.array([1, 2, 3])\n",
    "scaled_v = 3 * v\n",
    "print(\"Original vector:\", v)\n",
    "print(\"Scaled vector (3*v):\", scaled_v)\n",
    "\n",
    "# Scalar with matrix\n",
    "A = np.array([[1, 2], [3, 4]])\n",
    "scaled_A = 2 * A\n",
    "print(\"Original Matrix:\\n\", A)\n",
    "print(\"Scaled Matrix (2*A):\\n\", scaled_A)\n"
   ]
  },
  {
   "cell_type": "markdown",
   "id": "56ec12a9",
   "metadata": {},
   "source": [
    "Vectors"
   ]
  },
  {
   "cell_type": "code",
   "execution_count": null,
   "id": "e7050bb3",
   "metadata": {},
   "outputs": [],
   "source": [
    "# Create vectors\n",
    "v1 = np.array([1, 2, 3])      # row-like vector\n",
    "v2 = np.array([4, 5, 6])\n",
    "\n",
    "print(\"Vector v1:\", v1)\n",
    "print(\"Vector v2:\", v2)\n",
    "\n",
    "# Vector addition\n",
    "add = v1 + v2\n",
    "print(\"Addition:\", add)\n",
    "\n",
    "# Scalar multiplication\n",
    "scaled = 3 * v1\n",
    "print(\"Scalar Multiplication (3*v1):\", scaled)\n",
    "\n",
    "# Dot product\n",
    "dot = np.dot(v1, v2)\n",
    "print(\"Dot Product:\", dot)\n",
    "\n",
    "# Norm (magnitude)\n",
    "norm_v1 = np.linalg.norm(v1)\n",
    "print(\"Norm of v1:\", norm_v1)\n",
    "\n",
    "# Cosine similarity\n",
    "cos_sim = np.dot(v1, v2) / (np.linalg.norm(v1) * np.linalg.norm(v2))\n",
    "print(\"Cosine Similarity:\", cos_sim)\n",
    "\n",
    "# Unit vector (normalize v1)\n",
    "unit_v1 = v1 / np.linalg.norm(v1)\n",
    "print(\"Unit Vector of v1:\", unit_v1)"
   ]
  },
  {
   "cell_type": "markdown",
   "id": "9273ff4e",
   "metadata": {},
   "source": [
    "Matrix\n",
    "\n",
    "\n",
    "Types of Matrices:\n",
    "\n",
    "Square matrix: rows = columns (n × n).\n",
    "\n",
    "Row matrix: only 1 row.\n",
    "\n",
    "Column matrix: only 1 column.\n",
    "\n",
    "Identity matrix: diagonal = 1, rest = 0.\n",
    "\n",
    "Diagonal matrix: only diagonal non-zero.\n",
    "\n",
    "Symmetric matrix: \n",
    "𝐴=𝐴^𝑇\n",
    "\n",
    "Orthogonal matrix: \n",
    "𝐴^𝑇𝐴=𝐼"
   ]
  },
  {
   "cell_type": "code",
   "execution_count": null,
   "id": "52210348",
   "metadata": {},
   "outputs": [],
   "source": [
    "# Create matrices\n",
    "A = np.array([[1, 2], [3, 4]])\n",
    "B = np.array([[2, 0], [1, 3]])\n",
    "\n",
    "print(\"Matrix A:\\n\", A)\n",
    "print(\"Matrix B:\\n\", B)\n",
    "\n",
    "# Matrix addition\n",
    "print(\"A + B:\\n\", A + B)\n",
    "\n",
    "# Scalar multiplication\n",
    "print(\"3 * A:\\n\", 3 * A)\n",
    "\n",
    "# Matrix multiplication\n",
    "C = A @ B   # or np.matmul(A, B)\n",
    "print(\"A * B:\\n\", C)\n",
    "\n",
    "# Transpose\n",
    "print(\"Transpose of A:\\n\", A.T)\n",
    "\n",
    "# Determinant\n",
    "det_A = np.linalg.det(A)\n",
    "print(\"Determinant of A:\", det_A)\n",
    "\n",
    "# Inverse\n",
    "inv_A = np.linalg.inv(A)\n",
    "print(\"Inverse of A:\\n\", inv_A)\n",
    "\n",
    "# Rank\n",
    "rank_A = np.linalg.matrix_rank(A)\n",
    "print(\"Rank of A:\", rank_A)\n",
    "\n",
    "# Trace\n",
    "trace_A = np.trace(A)\n",
    "print(\"Trace of A:\", trace_A)\n"
   ]
  },
  {
   "cell_type": "code",
   "execution_count": null,
   "id": "ceaaccf2",
   "metadata": {},
   "outputs": [],
   "source": []
  }
 ],
 "metadata": {
  "kernelspec": {
   "display_name": "base",
   "language": "python",
   "name": "python3"
  },
  "language_info": {
   "codemirror_mode": {
    "name": "ipython",
    "version": 3
   },
   "file_extension": ".py",
   "mimetype": "text/x-python",
   "name": "python",
   "nbconvert_exporter": "python",
   "pygments_lexer": "ipython3",
   "version": "3.12.7"
  }
 },
 "nbformat": 4,
 "nbformat_minor": 5
}
